{
 "cells": [
  {
   "cell_type": "markdown",
   "metadata": {},
   "source": [
    "# Three-cornered-hat test\n",
    "See http://www.wriley.com/3-CornHat.htm\n",
    "\n",
    "we test ADEV etc. by calculations on synthetic data\n",
    "with known slopes of ADEV"
   ]
  },
  {
   "cell_type": "markdown",
   "metadata": {},
   "source": [
    "#### Import packages and setup notebook"
   ]
  },
  {
   "cell_type": "code",
   "execution_count": 1,
   "metadata": {
    "collapsed": true
   },
   "outputs": [],
   "source": [
    "%matplotlib inline"
   ]
  },
  {
   "cell_type": "code",
   "execution_count": 2,
   "metadata": {
    "collapsed": false
   },
   "outputs": [],
   "source": [
    "import numpy\n",
    "import matplotlib.pyplot as plt \n",
    "import allantools\n",
    "from allantools import noise"
   ]
  },
  {
   "cell_type": "code",
   "execution_count": 3,
   "metadata": {
    "collapsed": true
   },
   "outputs": [],
   "source": [
    "def plotallan_phase(plt,y,rate,taus, style):\n",
    "\t(t2, ad, ade,adn) = allantools.mdev_phase(y,rate,taus)\n",
    "\tplt.loglog(t2, ad, style)\n",
    "\n",
    "# plot a line with the slope alpha\n",
    "def plotline(plt, alpha, taus,style):\n",
    "\ty = [ pow(tt,alpha) for tt in taus]\n",
    "\tplt.loglog(taus,y,style)"
   ]
  },
  {
   "cell_type": "markdown",
   "metadata": {},
   "source": [
    "Generate some example data"
   ]
  },
  {
   "cell_type": "code",
   "execution_count": 4,
   "metadata": {
    "collapsed": true
   },
   "outputs": [],
   "source": [
    "t = numpy.logspace( 0 ,4,50) # tau values from 1 to 1000\n",
    "\n",
    "N=10000\n",
    "rate = 1.0\n",
    "# white phase noise => 1/tau ADEV\n",
    "d = numpy.random.randn(4*N)\n",
    "phaseA = d[0:N] # numpy.random.randn(N) #pink(N)\n",
    "phaseA = [1*x for x in phaseA]\n",
    "phaseB = d[N:2*N] #numpy.random.randn(N) #noise.pink(N)\n",
    "phaseB = [5*x for x in phaseB]\n",
    "phaseC = d[2*N:3*N] #numpy.random.randn(N) #noise.pink(N)\n",
    "phaseC = [5*x for x in phaseC]\n",
    "\n",
    "phaseAB = [a-b for (a,b) in zip(phaseA,phaseB)]\n",
    "phaseBC = [b-c for (b,c) in zip(phaseB,phaseC)]\n",
    "phaseCA = [c-a for (c,a) in zip(phaseC,phaseA)]\n"
   ]
  },
  {
   "cell_type": "markdown",
   "metadata": {},
   "source": [
    "Now, run three-cornered hat phase calculation"
   ]
  },
  {
   "cell_type": "code",
   "execution_count": 5,
   "metadata": {
    "collapsed": false
   },
   "outputs": [
    {
     "name": "stderr",
     "output_type": "stream",
     "text": [
      "c:\\users\\naudotojas\\appdata\\local\\programs\\python\\python35\\lib\\site-packages\\allantools\\allantools.py:166: VisibleDeprecationWarning: using a non-integer number instead of an integer will result in an error in the future\n",
      "  d0 = data[0:m]\n",
      "c:\\users\\naudotojas\\appdata\\local\\programs\\python\\python35\\lib\\site-packages\\allantools\\allantools.py:167: VisibleDeprecationWarning: using a non-integer number instead of an integer will result in an error in the future\n",
      "  d1 = data[m:2*m]\n",
      "c:\\users\\naudotojas\\appdata\\local\\programs\\python\\python35\\lib\\site-packages\\allantools\\allantools.py:168: VisibleDeprecationWarning: using a non-integer number instead of an integer will result in an error in the future\n",
      "  d2 = data[2*m:3*m]\n",
      "c:\\users\\naudotojas\\appdata\\local\\programs\\python\\python35\\lib\\site-packages\\allantools\\allantools.py:174: VisibleDeprecationWarning: using a non-integer number instead of an integer will result in an error in the future\n",
      "  d3 = data[3*m:]\n",
      "c:\\users\\naudotojas\\appdata\\local\\programs\\python\\python35\\lib\\site-packages\\allantools\\allantools.py:175: VisibleDeprecationWarning: using a non-integer number instead of an integer will result in an error in the future\n",
      "  d2 = data[2*m:]\n",
      "c:\\users\\naudotojas\\appdata\\local\\programs\\python\\python35\\lib\\site-packages\\allantools\\allantools.py:176: VisibleDeprecationWarning: using a non-integer number instead of an integer will result in an error in the future\n",
      "  d1 = data[1*m:]\n",
      "c:\\users\\naudotojas\\appdata\\local\\programs\\python\\python35\\lib\\site-packages\\allantools\\allantools.py:1148: RuntimeWarning: invalid value encountered in sqrt\n",
      "  dev_a = np.sqrt(var_a)\n"
     ]
    }
   ],
   "source": [
    "(taus,devA) = allantools.three_cornered_hat_phase(phaseAB,phaseBC,phaseCA,rate,t, allantools.mdev_phase)"
   ]
  },
  {
   "cell_type": "markdown",
   "metadata": {},
   "source": [
    "Plot results:"
   ]
  },
  {
   "cell_type": "code",
   "execution_count": 6,
   "metadata": {
    "collapsed": false
   },
   "outputs": [
    {
     "name": "stderr",
     "output_type": "stream",
     "text": [
      "c:\\users\\naudotojas\\appdata\\local\\programs\\python\\python35\\lib\\site-packages\\allantools\\allantools.py:166: VisibleDeprecationWarning: using a non-integer number instead of an integer will result in an error in the future\n",
      "  d0 = data[0:m]\n",
      "c:\\users\\naudotojas\\appdata\\local\\programs\\python\\python35\\lib\\site-packages\\allantools\\allantools.py:167: VisibleDeprecationWarning: using a non-integer number instead of an integer will result in an error in the future\n",
      "  d1 = data[m:2*m]\n",
      "c:\\users\\naudotojas\\appdata\\local\\programs\\python\\python35\\lib\\site-packages\\allantools\\allantools.py:168: VisibleDeprecationWarning: using a non-integer number instead of an integer will result in an error in the future\n",
      "  d2 = data[2*m:3*m]\n",
      "c:\\users\\naudotojas\\appdata\\local\\programs\\python\\python35\\lib\\site-packages\\allantools\\allantools.py:174: VisibleDeprecationWarning: using a non-integer number instead of an integer will result in an error in the future\n",
      "  d3 = data[3*m:]\n",
      "c:\\users\\naudotojas\\appdata\\local\\programs\\python\\python35\\lib\\site-packages\\allantools\\allantools.py:175: VisibleDeprecationWarning: using a non-integer number instead of an integer will result in an error in the future\n",
      "  d2 = data[2*m:]\n",
      "c:\\users\\naudotojas\\appdata\\local\\programs\\python\\python35\\lib\\site-packages\\allantools\\allantools.py:176: VisibleDeprecationWarning: using a non-integer number instead of an integer will result in an error in the future\n",
      "  d1 = data[1*m:]\n"
     ]
    },
    {
     "data": {
      "image/png": "[encoded data removed]",
      "text/plain": [
       "<matplotlib.figure.Figure at 0x23284944ac8>"
      ]
     },
     "metadata": {},
     "output_type": "display_data"
    }
   ],
   "source": [
    "plt.subplot(111, xscale=\"log\", yscale=\"log\")\n",
    "plotallan_phase(plt, phaseA, 1, t, 'ro')\n",
    "plotallan_phase(plt, phaseB, 1, t, 'go')\n",
    "plotallan_phase(plt, phaseC, 1, t, 'bo')\n",
    "\n",
    "plotallan_phase(plt, phaseAB, 1, t, 'r.')    \n",
    "plotallan_phase(plt, phaseBC, 1, t, 'g.')\n",
    "plotallan_phase(plt, phaseCA, 1, t, 'b.')    \n",
    "\n",
    "plt.loglog(taus, devA, 'rv')\n",
    "\n",
    "plt.grid()\n",
    "plt.show()"
   ]
  },
  {
   "cell_type": "code",
   "execution_count": null,
   "metadata": {
    "collapsed": true
   },
   "outputs": [],
   "source": []
  }
 ],
 "metadata": {
  "kernelspec": {
   "display_name": "Python 3",
   "language": "python",
   "name": "python3"
  },
  "language_info": {
   "codemirror_mode": {
    "name": "ipython",
    "version": 3
   },
   "file_extension": ".py",
   "mimetype": "text/x-python",
   "name": "python",
   "nbconvert_exporter": "python",
   "pygments_lexer": "ipython3",
   "version": "3.5.1"
  }
 },
 "nbformat": 4,
 "nbformat_minor": 0
}
