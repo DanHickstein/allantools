{
 "cells": [
  {
   "cell_type": "markdown",
   "metadata": {},
   "source": [
    "# Allantools demo\n",
    "\n",
    "Allantools tests with various noise types. We test ADEV etc. by calculations on synthetic data with known slopes of ADEV.\n",
    "\n",
    "#### Import packages and setup notebook"
   ]
  },
  {
   "cell_type": "code",
   "execution_count": 1,
   "metadata": {
    "collapsed": true
   },
   "outputs": [],
   "source": [
    "%matplotlib inline"
   ]
  },
  {
   "cell_type": "code",
   "execution_count": 2,
   "metadata": {
    "collapsed": true
   },
   "outputs": [],
   "source": [
    "import numpy\n",
    "import matplotlib.pyplot as plt \n",
    "import allantools\n",
    "from allantools import noise"
   ]
  },
  {
   "cell_type": "code",
   "execution_count": 3,
   "metadata": {
    "collapsed": true
   },
   "outputs": [],
   "source": [
    "def plotallan(plt, y, rate, taus, style):\n",
    "    (t2, ad, ade, adn) = allantools.oadev(y, rate, taus)\n",
    "    plt.loglog(t2, ad, style)\n",
    "\n",
    "\n",
    "def plotallan_phase(plt, y, rate, taus, style):\n",
    "    (t2, ad, ade, adn) = allantools.oadev_phase(y, rate, taus)\n",
    "    plt.loglog(t2, ad, style)\n",
    "\n",
    "\n",
    "def plotline(plt, alpha, taus, style):\n",
    "    \"\"\" plot a line with the slope alpha \"\"\"\n",
    "    y = [pow(tt, alpha) for tt in taus]\n",
    "    plt.loglog(taus, y, style)"
   ]
  },
  {
   "cell_type": "markdown",
   "metadata": {},
   "source": [
    "Colors: http://en.wikipedia.org/wiki/Colors_of_noise\n",
    "\n",
    "* Pink frequency noise - should have constant ADEV\n",
    "* White phase noise - should have 1/tau ADEV\n",
    "* White frequency noise - should have 1/sqrt(tau) ADEV\n",
    "* Random Walk frequency noise - should have sqrt(tau) ADEV"
   ]
  },
  {
   "cell_type": "code",
   "execution_count": 5,
   "metadata": {
    "collapsed": false
   },
   "outputs": [
    {
     "name": "stdout",
     "output_type": "stream",
     "text": [
      "Done.\n"
     ]
    },
    {
     "name": "stderr",
     "output_type": "stream",
     "text": [
      "c:\\users\\naudotojas\\appdata\\local\\programs\\python\\python35\\lib\\site-packages\\allantools\\allantools.py:326: VisibleDeprecationWarning: using a non-integer number instead of an integer will result in an error in the future\n",
      "  d2 = data[2 * mj::stride]\n",
      "c:\\users\\naudotojas\\appdata\\local\\programs\\python\\python35\\lib\\site-packages\\allantools\\allantools.py:327: VisibleDeprecationWarning: using a non-integer number instead of an integer will result in an error in the future\n",
      "  d1 = data[1 * mj::stride]\n"
     ]
    },
    {
     "data": {
      "image/png": "[encoded data removed]",
      "text/plain": [
       "<matplotlib.figure.Figure at 0x1f9bf412940>"
      ]
     },
     "metadata": {},
     "output_type": "display_data"
    }
   ],
   "source": [
    "t = numpy.logspace(0, 3, 50)  # tau values from 1 to 1000\n",
    "plt.subplot(111, xscale=\"log\", yscale=\"log\")\n",
    "N = 10000\n",
    "\n",
    "# pink frequency noise => constant ADEV\n",
    "freq_pink = noise.pink(N)\n",
    "phase_p = numpy.cumsum(noise.pink(N))  # integrate to get phase, color??\n",
    "plotallan_phase(plt, phase_p, 1, t, 'co')\n",
    "plotallan(plt, freq_pink, 1, t, 'c.')\n",
    "plotline(plt, 0, t, 'c')\n",
    "\n",
    "# white phase noise => 1/tau ADEV\n",
    "phase_white = noise.white(N)\n",
    "plotallan_phase(plt, phase_white, 1, t, 'ro')\n",
    "freq_w = noise.violet(N)  # diff to get frequency, \"Violet noise\"\n",
    "plotallan(plt, freq_w, 1, t, 'r.')\n",
    "plotline(plt, -1, t, 'r')\n",
    "\n",
    "# white frequency modulation => 1/sqrt(tau) ADEV\n",
    "freq_white = noise.white(N)\n",
    "phase_rw = noise.brown(N)  # integrate to get Brownian, or random walk phase\n",
    "plotallan(plt, freq_white, 1, t, 'b.')\n",
    "plotallan_phase(plt, phase_rw, 1, t, 'bo')\n",
    "plotline(plt, -0.5, t, 'b')\n",
    "\n",
    "\n",
    "# Brownian a.k.a random walk  frequency => sqrt(tau) ADEV\n",
    "freq_rw = noise.brown(N)\n",
    "phase_rw_rw = numpy.cumsum(noise.brown(N))  # integrate to get  phase\n",
    "plotallan(plt, freq_rw, 1, t, 'm.')\n",
    "plotallan_phase(plt, phase_rw_rw, 1, t, 'mo')\n",
    "plotline(plt, +0.5, t, 'm')\n",
    "\n",
    "plt.xlabel('Tau')\n",
    "plt.ylabel('Overlapping Allan deviation')\n",
    "print(\"Done.\")\n",
    "plt.grid()\n",
    "plt.show()"
   ]
  },
  {
   "cell_type": "code",
   "execution_count": null,
   "metadata": {
    "collapsed": true
   },
   "outputs": [],
   "source": []
  }
 ],
 "metadata": {
  "kernelspec": {
   "display_name": "Python 3",
   "language": "python",
   "name": "python3"
  },
  "language_info": {
   "codemirror_mode": {
    "name": "ipython",
    "version": 3
   },
   "file_extension": ".py",
   "mimetype": "text/x-python",
   "name": "python",
   "nbconvert_exporter": "python",
   "pygments_lexer": "ipython3",
   "version": "3.5.1"
  }
 },
 "nbformat": 4,
 "nbformat_minor": 0
}
